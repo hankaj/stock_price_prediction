{
  "nbformat": 4,
  "nbformat_minor": 0,
  "metadata": {
    "colab": {
      "name": "stock_price_prediction.ipynb",
      "provenance": [],
      "authorship_tag": "ABX9TyOPJuGMwtIociQ85VEP/a35",
      "include_colab_link": true
    },
    "kernelspec": {
      "name": "python3",
      "display_name": "Python 3"
    }
  },
  "cells": [
    {
      "cell_type": "markdown",
      "metadata": {
        "id": "view-in-github",
        "colab_type": "text"
      },
      "source": [
        "<a href=\"https://colab.research.google.com/github/hankaj/stock_price_prediction/blob/main/stock_price_prediction.ipynb\" target=\"_parent\"><img src=\"https://colab.research.google.com/assets/colab-badge.svg\" alt=\"Open In Colab\"/></a>"
      ]
    },
    {
      "cell_type": "code",
      "metadata": {
        "id": "w4_YHR63y4g5"
      },
      "source": [
        "# Description: project to learn Machine Learnig in Python - Stock Price Prediction using recurrent neural network called Long Short Term Memory."
      ],
      "execution_count": 1,
      "outputs": []
    },
    {
      "cell_type": "code",
      "metadata": {
        "id": "lwcyh7oU0boc"
      },
      "source": [
        "# Import libraries\n",
        "import math\n",
        "import pandas_datareader as web\n",
        "import numpy as np\n",
        "import pandas as pd\n",
        "from sklearn.preprocessing import MinMaxScaler\n",
        "from keras.models import Sequential\n",
        "from keras.layers import Dense, LSTM\n",
        "import matplotlib.pyplot as plt\n",
        "plt.style.use('fivethirtyeight')"
      ],
      "execution_count": 2,
      "outputs": []
    },
    {
      "cell_type": "code",
      "metadata": {
        "colab": {
          "base_uri": "https://localhost:8080/",
          "height": 455
        },
        "id": "SglsfJn41p8H",
        "outputId": "19eb20ed-00d8-4008-d828-2b4028967a6f"
      },
      "source": [
        "# Get the stock quote\n",
        "# Dataframe, Apple stock information 2013-2021\n",
        "df = web.DataReader('AAPL', data_source='yahoo', start='2013-01-01', end='2021-02-11')\n",
        "# Show the data\n",
        "df"
      ],
      "execution_count": 3,
      "outputs": [
        {
          "output_type": "execute_result",
          "data": {
            "text/html": [
              "<div>\n",
              "<style scoped>\n",
              "    .dataframe tbody tr th:only-of-type {\n",
              "        vertical-align: middle;\n",
              "    }\n",
              "\n",
              "    .dataframe tbody tr th {\n",
              "        vertical-align: top;\n",
              "    }\n",
              "\n",
              "    .dataframe thead th {\n",
              "        text-align: right;\n",
              "    }\n",
              "</style>\n",
              "<table border=\"1\" class=\"dataframe\">\n",
              "  <thead>\n",
              "    <tr style=\"text-align: right;\">\n",
              "      <th></th>\n",
              "      <th>High</th>\n",
              "      <th>Low</th>\n",
              "      <th>Open</th>\n",
              "      <th>Close</th>\n",
              "      <th>Volume</th>\n",
              "      <th>Adj Close</th>\n",
              "    </tr>\n",
              "    <tr>\n",
              "      <th>Date</th>\n",
              "      <th></th>\n",
              "      <th></th>\n",
              "      <th></th>\n",
              "      <th></th>\n",
              "      <th></th>\n",
              "      <th></th>\n",
              "    </tr>\n",
              "  </thead>\n",
              "  <tbody>\n",
              "    <tr>\n",
              "      <th>2013-01-02</th>\n",
              "      <td>19.821428</td>\n",
              "      <td>19.343929</td>\n",
              "      <td>19.779285</td>\n",
              "      <td>19.608213</td>\n",
              "      <td>560518000.0</td>\n",
              "      <td>17.039789</td>\n",
              "    </tr>\n",
              "    <tr>\n",
              "      <th>2013-01-03</th>\n",
              "      <td>19.631071</td>\n",
              "      <td>19.321428</td>\n",
              "      <td>19.567142</td>\n",
              "      <td>19.360714</td>\n",
              "      <td>352965200.0</td>\n",
              "      <td>16.824715</td>\n",
              "    </tr>\n",
              "    <tr>\n",
              "      <th>2013-01-04</th>\n",
              "      <td>19.236786</td>\n",
              "      <td>18.779642</td>\n",
              "      <td>19.177500</td>\n",
              "      <td>18.821428</td>\n",
              "      <td>594333600.0</td>\n",
              "      <td>16.356062</td>\n",
              "    </tr>\n",
              "    <tr>\n",
              "      <th>2013-01-07</th>\n",
              "      <td>18.903570</td>\n",
              "      <td>18.400000</td>\n",
              "      <td>18.642857</td>\n",
              "      <td>18.710714</td>\n",
              "      <td>484156400.0</td>\n",
              "      <td>16.259851</td>\n",
              "    </tr>\n",
              "    <tr>\n",
              "      <th>2013-01-08</th>\n",
              "      <td>18.996071</td>\n",
              "      <td>18.616072</td>\n",
              "      <td>18.900356</td>\n",
              "      <td>18.761070</td>\n",
              "      <td>458707200.0</td>\n",
              "      <td>16.303608</td>\n",
              "    </tr>\n",
              "    <tr>\n",
              "      <th>...</th>\n",
              "      <td>...</td>\n",
              "      <td>...</td>\n",
              "      <td>...</td>\n",
              "      <td>...</td>\n",
              "      <td>...</td>\n",
              "      <td>...</td>\n",
              "    </tr>\n",
              "    <tr>\n",
              "      <th>2021-02-05</th>\n",
              "      <td>137.419998</td>\n",
              "      <td>135.860001</td>\n",
              "      <td>137.350006</td>\n",
              "      <td>136.759995</td>\n",
              "      <td>75524000.0</td>\n",
              "      <td>136.759995</td>\n",
              "    </tr>\n",
              "    <tr>\n",
              "      <th>2021-02-08</th>\n",
              "      <td>136.960007</td>\n",
              "      <td>134.919998</td>\n",
              "      <td>136.029999</td>\n",
              "      <td>136.910004</td>\n",
              "      <td>71297200.0</td>\n",
              "      <td>136.910004</td>\n",
              "    </tr>\n",
              "    <tr>\n",
              "      <th>2021-02-09</th>\n",
              "      <td>137.880005</td>\n",
              "      <td>135.850006</td>\n",
              "      <td>136.619995</td>\n",
              "      <td>136.009995</td>\n",
              "      <td>76774200.0</td>\n",
              "      <td>136.009995</td>\n",
              "    </tr>\n",
              "    <tr>\n",
              "      <th>2021-02-10</th>\n",
              "      <td>136.990005</td>\n",
              "      <td>134.399994</td>\n",
              "      <td>136.479996</td>\n",
              "      <td>135.389999</td>\n",
              "      <td>73046600.0</td>\n",
              "      <td>135.389999</td>\n",
              "    </tr>\n",
              "    <tr>\n",
              "      <th>2021-02-11</th>\n",
              "      <td>136.389999</td>\n",
              "      <td>133.770004</td>\n",
              "      <td>135.899994</td>\n",
              "      <td>135.130005</td>\n",
              "      <td>64154400.0</td>\n",
              "      <td>135.130005</td>\n",
              "    </tr>\n",
              "  </tbody>\n",
              "</table>\n",
              "<p>2043 rows × 6 columns</p>\n",
              "</div>"
            ],
            "text/plain": [
              "                  High         Low  ...       Volume   Adj Close\n",
              "Date                                ...                         \n",
              "2013-01-02   19.821428   19.343929  ...  560518000.0   17.039789\n",
              "2013-01-03   19.631071   19.321428  ...  352965200.0   16.824715\n",
              "2013-01-04   19.236786   18.779642  ...  594333600.0   16.356062\n",
              "2013-01-07   18.903570   18.400000  ...  484156400.0   16.259851\n",
              "2013-01-08   18.996071   18.616072  ...  458707200.0   16.303608\n",
              "...                ...         ...  ...          ...         ...\n",
              "2021-02-05  137.419998  135.860001  ...   75524000.0  136.759995\n",
              "2021-02-08  136.960007  134.919998  ...   71297200.0  136.910004\n",
              "2021-02-09  137.880005  135.850006  ...   76774200.0  136.009995\n",
              "2021-02-10  136.990005  134.399994  ...   73046600.0  135.389999\n",
              "2021-02-11  136.389999  133.770004  ...   64154400.0  135.130005\n",
              "\n",
              "[2043 rows x 6 columns]"
            ]
          },
          "metadata": {
            "tags": []
          },
          "execution_count": 3
        }
      ]
    },
    {
      "cell_type": "code",
      "metadata": {
        "colab": {
          "base_uri": "https://localhost:8080/"
        },
        "id": "y2cjSAUv3ypt",
        "outputId": "e69f6276-4f40-4d19-ef66-8ec9e5580715"
      },
      "source": [
        "# Get the number of rows in columns in the data set\n",
        "df.shape"
      ],
      "execution_count": 4,
      "outputs": [
        {
          "output_type": "execute_result",
          "data": {
            "text/plain": [
              "(2043, 6)"
            ]
          },
          "metadata": {
            "tags": []
          },
          "execution_count": 4
        }
      ]
    },
    {
      "cell_type": "code",
      "metadata": {
        "colab": {
          "base_uri": "https://localhost:8080/",
          "height": 558
        },
        "id": "7wS2911j4LWG",
        "outputId": "466a5ec2-7664-4f11-c61d-9dbe288f39a9"
      },
      "source": [
        "# Visualize the closing price history\n",
        "plt.figure(figsize=(16,8))\n",
        "plt.title('Close Price History')\n",
        "plt.plot(df['Close'])\n",
        "plt.xlabel('Date', fontsize=18)\n",
        "plt.ylabel('Close Price USD ($)', fontsize=18)\n",
        "plt.show()"
      ],
      "execution_count": 5,
      "outputs": [
        {
          "output_type": "display_data",
          "data": {
            "image/png": "[encoded data removed]",
            "text/plain": [
              "<Figure size 1152x576 with 1 Axes>"
            ]
          },
          "metadata": {
            "tags": []
          }
        }
      ]
    },
    {
      "cell_type": "code",
      "metadata": {
        "colab": {
          "base_uri": "https://localhost:8080/"
        },
        "id": "80UE9Sal8x0t",
        "outputId": "5d549306-0249-43d7-9ac8-855cf60916f8"
      },
      "source": [
        "# Create a new dataframe with only the 'Close' column\n",
        "data = df.filter(['Close'])\n",
        "# Convert the dataframe to numpy array\n",
        "dataset = data.values\n",
        "# Get the number of rows to train the model on (80% of the dataset)\n",
        "training_data_len = math.ceil( len(dataset) * .8 )\n",
        "\n",
        "training_data_len"
      ],
      "execution_count": 7,
      "outputs": [
        {
          "output_type": "execute_result",
          "data": {
            "text/plain": [
              "1635"
            ]
          },
          "metadata": {
            "tags": []
          },
          "execution_count": 7
        }
      ]
    },
    {
      "cell_type": "code",
      "metadata": {
        "colab": {
          "base_uri": "https://localhost:8080/"
        },
        "id": "qWezV2OiXCYB",
        "outputId": "8bc290ef-c30e-4f1b-f2d3-6644c7075602"
      },
      "source": [
        "# Scale the data\n",
        "# Good practice to preprocess data before giving it to the model\n",
        "scaler = MinMaxScaler(feature_range=(0,1))\n",
        "scaled_data = scaler.fit_transform(dataset)\n",
        "\n",
        "# Values are between 0 and 1\n",
        "scaled_data"
      ],
      "execution_count": 8,
      "outputs": [
        {
          "output_type": "execute_result",
          "data": {
            "text/plain": [
              "array([[0.04380933],\n",
              "       [0.04189388],\n",
              "       [0.03772025],\n",
              "       ...,\n",
              "       [0.94466473],\n",
              "       [0.93986647],\n",
              "       [0.93785432]])"
            ]
          },
          "metadata": {
            "tags": []
          },
          "execution_count": 8
        }
      ]
    },
    {
      "cell_type": "code",
      "metadata": {
        "colab": {
          "base_uri": "https://localhost:8080/"
        },
        "id": "rLQpLuFBc94N",
        "outputId": "f5940ad4-f05d-4fec-e127-7f60b053f984"
      },
      "source": [
        "# Create the training data set\n",
        "# Create the scaled training data set\n",
        "train_data = scaled_data[0:training_data_len , :]\n",
        "# Split the data into x_train and y_train data sets\n",
        "x_train = []\n",
        "y_train = []\n",
        "\n",
        "for i in range(60, len(train_data)):\n",
        "  x_train.append(train_data[i-60:i, 0])\n",
        "  y_train.append(train_data[i, 0])\n",
        "  # Print to see how it works\n",
        "  if i<=61:\n",
        "    print(x_train)\n",
        "    print(y_train)\n",
        "    print()"
      ],
      "execution_count": 9,
      "outputs": [
        {
          "output_type": "stream",
          "text": [
            "[array([0.04380933, 0.04189388, 0.03772025, 0.03686341, 0.03725313,\n",
            "       0.0349839 , 0.03675563, 0.03586838, 0.03074117, 0.02636576,\n",
            "       0.03194073, 0.03099821, 0.03025747, 0.03157589, 0.03412982,\n",
            "       0.01657569, 0.01364032, 0.0163905 , 0.0187233 , 0.01832529,\n",
            "       0.01795492, 0.01743805, 0.01431474, 0.01860446, 0.01846902,\n",
            "       0.02147349, 0.02334195, 0.02471012, 0.02138504, 0.02113904,\n",
            "       0.02102296, 0.01924571, 0.01919871, 0.01611963, 0.01534846,\n",
            "       0.01666137, 0.01444741, 0.01615279, 0.01493663, 0.01406045,\n",
            "       0.0110394 , 0.00815932, 0.01122458, 0.00970992, 0.0110698 ,\n",
            "       0.0113849 , 0.01308475, 0.01047554, 0.01045343, 0.0116005 ,\n",
            "       0.01468511, 0.01801849, 0.01767853, 0.01701239, 0.01719205,\n",
            "       0.01972941, 0.02019099, 0.01951658, 0.01701239, 0.01440871])]\n",
            "[0.010608216319641275]\n",
            "\n",
            "[array([0.04380933, 0.04189388, 0.03772025, 0.03686341, 0.03725313,\n",
            "       0.0349839 , 0.03675563, 0.03586838, 0.03074117, 0.02636576,\n",
            "       0.03194073, 0.03099821, 0.03025747, 0.03157589, 0.03412982,\n",
            "       0.01657569, 0.01364032, 0.0163905 , 0.0187233 , 0.01832529,\n",
            "       0.01795492, 0.01743805, 0.01431474, 0.01860446, 0.01846902,\n",
            "       0.02147349, 0.02334195, 0.02471012, 0.02138504, 0.02113904,\n",
            "       0.02102296, 0.01924571, 0.01919871, 0.01611963, 0.01534846,\n",
            "       0.01666137, 0.01444741, 0.01615279, 0.01493663, 0.01406045,\n",
            "       0.0110394 , 0.00815932, 0.01122458, 0.00970992, 0.0110698 ,\n",
            "       0.0113849 , 0.01308475, 0.01047554, 0.01045343, 0.0116005 ,\n",
            "       0.01468511, 0.01801849, 0.01767853, 0.01701239, 0.01719205,\n",
            "       0.01972941, 0.02019099, 0.01951658, 0.01701239, 0.01440871]), array([0.04189388, 0.03772025, 0.03686341, 0.03725313, 0.0349839 ,\n",
            "       0.03675563, 0.03586838, 0.03074117, 0.02636576, 0.03194073,\n",
            "       0.03099821, 0.03025747, 0.03157589, 0.03412982, 0.01657569,\n",
            "       0.01364032, 0.0163905 , 0.0187233 , 0.01832529, 0.01795492,\n",
            "       0.01743805, 0.01431474, 0.01860446, 0.01846902, 0.02147349,\n",
            "       0.02334195, 0.02471012, 0.02138504, 0.02113904, 0.02102296,\n",
            "       0.01924571, 0.01919871, 0.01611963, 0.01534846, 0.01666137,\n",
            "       0.01444741, 0.01615279, 0.01493663, 0.01406045, 0.0110394 ,\n",
            "       0.00815932, 0.01122458, 0.00970992, 0.0110698 , 0.0113849 ,\n",
            "       0.01308475, 0.01047554, 0.01045343, 0.0116005 , 0.01468511,\n",
            "       0.01801849, 0.01767853, 0.01701239, 0.01719205, 0.01972941,\n",
            "       0.02019099, 0.01951658, 0.01701239, 0.01440871, 0.01060822])]\n",
            "[0.010608216319641275, 0.010851446163983772]\n",
            "\n"
          ],
          "name": "stdout"
        }
      ]
    }
  ]
}